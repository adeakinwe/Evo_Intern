{
 "cells": [
  {
   "cell_type": "markdown",
   "id": "80d88fcb-13b4-4008-8b3f-35150c537e7d",
   "metadata": {},
   "source": [
    "Import Web Scrapping Libraries"
   ]
  },
  {
   "cell_type": "code",
   "execution_count": null,
   "id": "4536a985-676a-4343-b38f-21c4d77345fa",
   "metadata": {},
   "outputs": [],
   "source": [
    "from bs4 import BeautifulSoup as bs\n",
    "import requests as req"
   ]
  },
  {
   "cell_type": "markdown",
   "id": "a3d8a04b-4d82-41a9-ab6b-1ecafd3783ab",
   "metadata": {},
   "source": [
    "Scrapping Website"
   ]
  },
  {
   "cell_type": "code",
   "execution_count": null,
   "id": "2ac32be9-22d9-4a38-b2c9-151150314f87",
   "metadata": {},
   "outputs": [],
   "source": [
    "url = 'https://ackodrive.com/cars/?sortBy=price-high-low'"
   ]
  },
  {
   "cell_type": "code",
   "execution_count": null,
   "id": "08c6ee99-6ef3-4d6a-ac0f-5bb698a615a9",
   "metadata": {},
   "outputs": [],
   "source": [
    "res = req.get(url)"
   ]
  },
  {
   "cell_type": "code",
   "execution_count": null,
   "id": "5b2be615-e80a-401f-8dfc-39b21b490222",
   "metadata": {},
   "outputs": [],
   "source": [
    "html_content = bs(res.text, 'html.parser')"
   ]
  },
  {
   "cell_type": "code",
   "execution_count": null,
   "id": "6c873a10-e087-4c03-8596-95811cad47ad",
   "metadata": {},
   "outputs": [],
   "source": [
    "print(html_content.prettify())"
   ]
  },
  {
   "cell_type": "code",
   "execution_count": null,
   "id": "dbefea1a-102b-43fe-80f0-c130a4f763d1",
   "metadata": {},
   "outputs": [],
   "source": [
    "all_cars = html_content.find_all('div',{'data-testid':'listingcardesktop'})"
   ]
  },
  {
   "cell_type": "code",
   "execution_count": null,
   "id": "e2006477-b8d5-420b-8f02-d6769196a8cd",
   "metadata": {},
   "outputs": [],
   "source": [
    "print(len(all_cars))"
   ]
  },
  {
   "cell_type": "code",
   "execution_count": null,
   "id": "a2208ba7-8699-4e9a-8b30-4d4474e72d3a",
   "metadata": {},
   "outputs": [],
   "source": [
    "all_cars[0]"
   ]
  },
  {
   "cell_type": "markdown",
   "id": "f6f703fa-e879-428d-8068-1a2506158435",
   "metadata": {},
   "source": [
    "Details to be scrapped"
   ]
  },
  {
   "cell_type": "markdown",
   "id": "0e38e04b-d5b9-4fea-a308-308a072f38b0",
   "metadata": {},
   "source": [
    "Car Name"
   ]
  },
  {
   "cell_type": "code",
   "execution_count": null,
   "id": "6b68b126-ff18-4cf9-a687-256f1fe81791",
   "metadata": {},
   "outputs": [],
   "source": [
    "all_cars[0].find('h2').get_text()"
   ]
  },
  {
   "cell_type": "markdown",
   "id": "817fcc8b-0af0-4211-9000-6f91a3e91a50",
   "metadata": {},
   "source": [
    "Fuel Type Transmission and Number of Available Color"
   ]
  },
  {
   "cell_type": "code",
   "execution_count": null,
   "id": "033edac6-74e9-45ff-b26e-6e2fe7a6b4c1",
   "metadata": {},
   "outputs": [],
   "source": [
    "all_cars[0].find('div',{'class':'styles__VariantInfo-sc-57d31ed8-12 fuepeG'}).get_text()"
   ]
  },
  {
   "cell_type": "markdown",
   "id": "4d21b889-53a5-4e13-a4bc-f81083dcdebd",
   "metadata": {},
   "source": [
    "Price"
   ]
  },
  {
   "cell_type": "code",
   "execution_count": null,
   "id": "6a14d811-1dd2-449e-a250-73f0c45712eb",
   "metadata": {},
   "outputs": [],
   "source": [
    "all_cars[0].find('div',{'class':'styles__Price-sc-57d31ed8-18 btbaoV'}).get_text()[1:-2]"
   ]
  },
  {
   "cell_type": "markdown",
   "id": "ec6dcc6e-935d-4822-9136-f7e16b64a3f9",
   "metadata": {},
   "source": [
    "Location"
   ]
  },
  {
   "cell_type": "code",
   "execution_count": null,
   "id": "6a4c72e5-a215-4d87-949a-45b80f516ee8",
   "metadata": {},
   "outputs": [],
   "source": [
    "all_cars[0].find('div',{'class':'styles__CityName-sc-57d31ed8-17 lhXIXl'}).get_text()[3:]"
   ]
  },
  {
   "cell_type": "markdown",
   "id": "6e10076a-73a6-4c79-9734-a319cfd3ab44",
   "metadata": {},
   "source": [
    "Looping through to access all Cars"
   ]
  },
  {
   "cell_type": "code",
   "execution_count": null,
   "id": "d5a64c0e-612c-4cc0-9915-62087e67ba14",
   "metadata": {},
   "outputs": [],
   "source": [
    "car_name = []\n",
    "fuel_transmission_color = []\n",
    "price = []\n",
    "location = []\n",
    "\n",
    "for car in all_cars:\n",
    "    try:\n",
    "        car_name.append(car.find('h2').get_text())\n",
    "    except:\n",
    "        car_name.append(\"N/A\")\n",
    "    try:\n",
    "        fuel_transmission_color.append(car.find('div',{'class':'styles__VariantInfo-sc-57d31ed8-12 fuepeG'}).get_text())\n",
    "    except:\n",
    "        fuel_transmission_color.append(\"N/A\")\n",
    "    try:\n",
    "        price.append(car.find('div',{'class':'styles__Price-sc-57d31ed8-18 btbaoV'}).get_text())\n",
    "    except:\n",
    "        price.append(\"N/A\")\n",
    "    try:\n",
    "        location.append(car.find('div',{'class':'styles__CityName-sc-57d31ed8-17 lhXIXl'}).get_text())\n",
    "    except:\n",
    "        location.append(\"N/A\")"
   ]
  },
  {
   "cell_type": "markdown",
   "id": "a5adc5d5-86eb-4579-ac9e-8fe052ddd455",
   "metadata": {},
   "source": [
    "Creating DataFrame"
   ]
  },
  {
   "cell_type": "code",
   "execution_count": null,
   "id": "0e26e6e2-7ba2-4a40-825c-a58935f042d1",
   "metadata": {},
   "outputs": [],
   "source": [
    "import pandas as pd"
   ]
  },
  {
   "cell_type": "code",
   "execution_count": null,
   "id": "9134ca07-80c8-487f-9e30-81dc634c683a",
   "metadata": {},
   "outputs": [],
   "source": [
    "data = {'car_name':car_name, 'fuel_transmission_color': fuel_transmission_color, 'price': price, 'location': location}"
   ]
  },
  {
   "cell_type": "code",
   "execution_count": null,
   "id": "252f833e-1ed9-4c1b-a7d4-2b9a31c3d1ca",
   "metadata": {},
   "outputs": [],
   "source": [
    "df = pd.DataFrame(data)"
   ]
  },
  {
   "cell_type": "code",
   "execution_count": null,
   "id": "076bb819-beaa-4f9b-8441-1fc73bc8d7d2",
   "metadata": {},
   "outputs": [],
   "source": [
    "df"
   ]
  },
  {
   "cell_type": "markdown",
   "id": "77fea75d-e648-469d-af4b-d60eba941f52",
   "metadata": {},
   "source": [
    "Feature Engineeering and Data Preprocessing"
   ]
  },
  {
   "cell_type": "code",
   "execution_count": null,
   "id": "642d275e-d05d-4ecd-8283-ff8d311cbd14",
   "metadata": {},
   "outputs": [],
   "source": [
    "df['fuel'] = df['fuel_transmission_color'].str.extract(r'(Diesel|Petrol|Electric)')\n",
    "\n",
    "df['transmission'] = df['fuel_transmission_color'].str.extract(r'(Automatic|Manual)')\n",
    "\n",
    "df['colors'] = df['fuel_transmission_color'].str.extract(r'(\\d+)').astype(int)\n",
    "\n",
    "df['price'] = df['price'].replace({'₹': '', 'L':''}, regex=True)\n",
    "\n",
    "df['price'] = df['price'].astype(float)\n",
    "\n",
    "df['location'] = df['location'].replace({'in ':''}, regex=True)"
   ]
  },
  {
   "cell_type": "code",
   "execution_count": null,
   "id": "c95dbad2-2ae1-4be4-b467-ce5585ec46ea",
   "metadata": {},
   "outputs": [],
   "source": [
    "df"
   ]
  },
  {
   "cell_type": "code",
   "execution_count": null,
   "id": "5da02aa2-0628-4a08-a30e-67f148f6643c",
   "metadata": {},
   "outputs": [],
   "source": [
    "df.drop(columns=['fuel_transmission_color'], inplace=True)"
   ]
  },
  {
   "cell_type": "code",
   "execution_count": null,
   "id": "9c095580-9ef3-4ac8-b114-610c12febfde",
   "metadata": {},
   "outputs": [],
   "source": [
    "df"
   ]
  },
  {
   "cell_type": "markdown",
   "id": "33246920-1a96-4057-a562-cf2979b5e876",
   "metadata": {},
   "source": [
    "Data Validation"
   ]
  },
  {
   "cell_type": "code",
   "execution_count": null,
   "id": "592353e7-97f4-4eae-ba3c-e3d195a1a906",
   "metadata": {},
   "outputs": [],
   "source": [
    "df.dtypes"
   ]
  },
  {
   "cell_type": "code",
   "execution_count": null,
   "id": "0f5ee1e9-5e05-4666-bd2c-e90f0c874780",
   "metadata": {},
   "outputs": [],
   "source": [
    "df.isnull().sum()"
   ]
  },
  {
   "cell_type": "code",
   "execution_count": null,
   "id": "5bf7776b-236a-4991-a9b8-cefc1d1e030a",
   "metadata": {},
   "outputs": [],
   "source": [
    "df.duplicated().any()"
   ]
  },
  {
   "cell_type": "markdown",
   "id": "f7ebf235-8a39-4851-8d88-90636ea7c6a4",
   "metadata": {},
   "source": [
    "Saving Dataframe to CSV"
   ]
  },
  {
   "cell_type": "code",
   "execution_count": null,
   "id": "11941e45-e4a2-4504-95c6-2a6d90296ad6",
   "metadata": {},
   "outputs": [],
   "source": [
    "df.to_csv('cp12_adeseto_webscrape_project.csv', index=False)"
   ]
  },
  {
   "cell_type": "markdown",
   "id": "229d55a4-630c-4e54-8f38-b0ab2269a69e",
   "metadata": {},
   "source": [
    "Read saved CSV"
   ]
  },
  {
   "cell_type": "code",
   "execution_count": null,
   "id": "226a1aad-6af3-497c-8834-2d3ee7effeb9",
   "metadata": {},
   "outputs": [],
   "source": [
    "pd.read_csv('cp12_adeseto_webscrape_project.csv')"
   ]
  },
  {
   "cell_type": "code",
   "execution_count": null,
   "id": "27b2f0d5-e7ea-420e-bdf4-ae224923a260",
   "metadata": {},
   "outputs": [],
   "source": []
  }
 ],
 "metadata": {
  "kernelspec": {
   "display_name": "Python 3 (ipykernel)",
   "language": "python",
   "name": "python3"
  },
  "language_info": {
   "codemirror_mode": {
    "name": "ipython",
    "version": 3
   },
   "file_extension": ".py",
   "mimetype": "text/x-python",
   "name": "python",
   "nbconvert_exporter": "python",
   "pygments_lexer": "ipython3",
   "version": "3.9.6"
  }
 },
 "nbformat": 4,
 "nbformat_minor": 5
}
