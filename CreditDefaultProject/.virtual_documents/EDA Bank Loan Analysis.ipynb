


import pandas as pd
import numpy as np
import matplotlib.pyplot as plt
import seaborn as sns
from plotly.subplots import make_subplots
import plotly.graph_objects as go
pd.set_option('display.max_columns', 300) #Setting column display limit
plt.style.use('ggplot') #Applying style to graphs








app = pd.read_csv('application_data.csv')





papp = pd.read_csv('previous_application.csv')





app.head()





app.shape





app.isnull().sum()/app.shape[0] * 100





removeCol = app.columns[app.isnull().sum()/app.shape[0]*100 > 40]
removeCol





app.drop(columns=removeCol,axis = 1, inplace= True)





app.shape





app.describe()


nullcol=app.isnull().sum()* 100/len(app)
nullcol[nullcol > 0].head(100)





app.dtypes.head(60)








sns.boxplot( x=app['TARGET'],y=app['AMT_ANNUITY'])


print(app['TARGET'].value_counts())






import matplotlib.pyplot as plt
import seaborn as sns

# Assuming 'target' is your target variable
sns.countplot(x='TARGET', data=app)
plt.title(' Distribution')
plt.show()






app.AMT_REQ_CREDIT_BUREAU_YEAR.fillna(app.AMT_REQ_CREDIT_BUREAU_YEAR.mode()[0],inplace = True) #AMT_REQ_CREDIT_BUREAU_YEAR

app.AMT_REQ_CREDIT_BUREAU_MON.fillna(app.AMT_REQ_CREDIT_BUREAU_MON.mode()[0],inplace = True)   #AMT_REQ_CREDIT_BUREAU_MON

app.AMT_REQ_CREDIT_BUREAU_WEEK.fillna(app.AMT_REQ_CREDIT_BUREAU_WEEK.mode()[0],inplace = True) #AMT_REQ_CREDIT_BUREAU_WEEK

app.AMT_REQ_CREDIT_BUREAU_DAY.fillna(app.AMT_REQ_CREDIT_BUREAU_DAY.mode()[0],inplace = True)   #AMT_REQ_CREDIT_BUREAU_DAY

app.AMT_REQ_CREDIT_BUREAU_HOUR.fillna(app.AMT_REQ_CREDIT_BUREAU_HOUR.mode()[0],inplace = True) #AMT_REQ_CREDIT_BUREAU_HOUR

app.AMT_REQ_CREDIT_BUREAU_QRT.fillna(app.AMT_REQ_CREDIT_BUREAU_QRT.mode()[0],inplace = True)   #AMT_REQ_CREDIT_BUREAU_QRT



(app.isnull().sum()/len(app)*100).sort_values(ascending=False)



app[['DAYS_BIRTH','DAYS_EMPLOYED','DAYS_REGISTRATION','DAYS_ID_PUBLISH','DAYS_LAST_PHONE_CHANGE']].info()



app['DAYS_BIRTH'] = app['DAYS_BIRTH'].abs()


app['DAYS_EMPLOYED'] = app['DAYS_EMPLOYED'].abs()


app['DAYS_REGISTRATION']= app['DAYS_ID_PUBLISH'].abs()


app['DAYS_LAST_PHONE_CHANGE']= app['DAYS_LAST_PHONE_CHANGE'].abs()
app['DAYS_ID_PUBLISH'] = app['DAYS_ID_PUBLISH'].abs()


app[['DAYS_BIRTH','DAYS_EMPLOYED','DAYS_REGISTRATION','DAYS_ID_PUBLISH','DAYS_LAST_PHONE_CHANGE']]


app[['DAYS_BIRTH','DAYS_EMPLOYED','DAYS_REGISTRATION','DAYS_ID_PUBLISH','DAYS_LAST_PHONE_CHANGE']].isnull().sum()/len(app) *100


app['FLAG_OWN_CAR'] = np.where(app['FLAG_OWN_CAR']=='Y', 1 , 0)
app['FLAG_OWN_REALTY'] = np.where(app['FLAG_OWN_REALTY']=='Y', 1 , 0)



app.head(50)


(app.isnull().sum()/len(app) * 100).head(50)


app['AMT_GOODS_PRICE'].fillna(app['AMT_GOODS_PRICE'].median(),inplace=True)


app['EXT_SOURCE_3'].fillna(app['EXT_SOURCE_3'].median(),inplace=True)


app['EXT_SOURCE_2'].fillna(app['EXT_SOURCE_2'].median(),inplace=True)


app['AMT_INCOME_TYPE'] = pd.qcut(app['AMT_INCOME_TOTAL'],q=[0,0.2,0.5,0.8,0.95,1] ,labels=['very low','low','medium','high','very high'])
app['AMT_INCOME_TYPE'].head(10)





app.CODE_GENDER.value_counts()





app.loc[app.CODE_GENDER == 'XNA','CODE_GENDER'] = 'F'
app.CODE_GENDER.value_counts()


app.OCCUPATION_TYPE.value_counts().head(25)


app.ORGANIZATION_TYPE.value_counts()


app.NAME_INCOME_TYPE.value_counts().head(19)


app[['ORGANIZATION_TYPE','NAME_INCOME_TYPE']].head(30)



app['ORGANIZATION_TYPE'] = app['ORGANIZATION_TYPE'].replace('XNA', 'Pensioner')
app['OCCUPATION_TYPE'].fillna('Pensioner' , inplace = True)



imputerSocial = ['OBS_30_CNT_SOCIAL_CIRCLE', 'DEF_30_CNT_SOCIAL_CIRCLE', 'OBS_60_CNT_SOCIAL_CIRCLE', 'DEF_60_CNT_SOCIAL_CIRCLE']
for i in imputerSocial:
  app[i].fillna(0,inplace=True)


imputeRest = ['AMT_ANNUITY','NAME_TYPE_SUITE','CNT_FAM_MEMBERS','DAYS_LAST_PHONE_CHANGE']

for rest in imputeRest:
  app[rest].fillna(app[rest].mode()[0],inplace=True)


app.isnull().sum().head(50)


app.dtypes.head(50)


Numeric_label= ['AMT_INCOME_TOTAL','AMT_CREDIT','AMT_ANNUITY','REGION_POPULATION_RELATIVE','HOUR_APPR_PROCESS_START','LIVE_REGION_NOT_WORK_REGION', 'REG_CITY_NOT_LIVE_CITY',
       'REG_CITY_NOT_WORK_CITY', 'LIVE_CITY_NOT_WORK_CITY']
app[Numeric_label]=app[Numeric_label].apply(pd.to_numeric)


app.dtypes.head(50)





bins = [0,25000,50000,75000,100000,125000,150000,175000,200000,225000,250000,275000,300000,325000,350000,375000,400000,425000,450000,475000,500000,10000000000]
Income_slot = ['0-25000', '25000-50000','50000-75000','75000,100000','100000-125000', '125000-150000', '150000-175000','175000-200000',
       '200000-225000','225000-250000','250000-275000','275000-300000','300000-325000','325000-350000','350000-375000',
       '375000-400000','400000-425000','425000-450000','450000-475000','475000-500000','500000 and above']

app['AMT_INCOME_RANGE']=pd.cut(app['AMT_INCOME_TOTAL'],bins,labels=Income_slot)
app['AMT_INCOME_RANGE']


bins = [0,150000,200000,250000,300000,350000,400000,450000,500000,550000,600000,650000,700000,750000,800000,850000,900000,1000000000]
Credit_slots = ['0-150000', '150000-200000','200000-250000', '250000-300000', '300000-350000', '350000-400000','400000-450000',
        '450000-500000','500000-550000','550000-600000','600000-650000','650000-700000','700000-750000','750000-800000',
        '800000-850000','850000-900000','900000 and above']

app['AMT_CREDIT_RANGE']=pd.cut(app['AMT_CREDIT'],bins=bins,labels=Credit_slots)
app['AMT_CREDIT_RANGE']


app['AGE_GROUP']=pd.cut(app['DAYS_BIRTH'],bins=[19,25,35,60,100], labels=['Very_Young','Young', 'Middle_Age', 'Senior_Citizen'])





flagdrop=['FLAG_MOBIL', 'FLAG_EMP_PHONE', 'FLAG_WORK_PHONE', 'FLAG_CONT_MOBILE',
       'FLAG_PHONE', 'FLAG_EMAIL','REGION_RATING_CLIENT','REGION_RATING_CLIENT_W_CITY','FLAG_EMAIL', 'REGION_RATING_CLIENT',
       'REGION_RATING_CLIENT_W_CITY', 'FLAG_DOCUMENT_2', 'FLAG_DOCUMENT_3','FLAG_DOCUMENT_4', 'FLAG_DOCUMENT_5', 'FLAG_DOCUMENT_6',
       'FLAG_DOCUMENT_7', 'FLAG_DOCUMENT_8', 'FLAG_DOCUMENT_9','FLAG_DOCUMENT_10', 'FLAG_DOCUMENT_11', 'FLAG_DOCUMENT_12',
       'FLAG_DOCUMENT_13', 'FLAG_DOCUMENT_14', 'FLAG_DOCUMENT_15','FLAG_DOCUMENT_16', 'FLAG_DOCUMENT_17', 'FLAG_DOCUMENT_18',
       'FLAG_DOCUMENT_19', 'FLAG_DOCUMENT_20', 'FLAG_DOCUMENT_21']

app.drop(labels=flagdrop,axis=1,inplace=True)


app.info(verbose=True)


numerical_col = app.select_dtypes(include='number').columns
len(numerical_col)


#The datatype of categorical columns below will be changed to category to suit univariate analysis
app['NAME_CONTRACT_TYPE'] = app['NAME_CONTRACT_TYPE'].astype('category')
app['CODE_GENDER'] = app['CODE_GENDER'].astype('category')
app['NAME_TYPE_SUITE'] = app['NAME_TYPE_SUITE'].astype('category')
app['NAME_INCOME_TYPE'] = app['NAME_INCOME_TYPE'].astype('category')
app['NAME_EDUCATION_TYPE'] = app['NAME_EDUCATION_TYPE'].astype('category')
app['NAME_FAMILY_STATUS'] = app['NAME_FAMILY_STATUS'].astype('category')
app['NAME_HOUSING_TYPE'] = app['NAME_HOUSING_TYPE'].astype('category')
app['OCCUPATION_TYPE'] = app['OCCUPATION_TYPE'].astype('category')
app['WEEKDAY_APPR_PROCESS_START'] = app['WEEKDAY_APPR_PROCESS_START'].astype('category')
app['ORGANIZATION_TYPE'] = app['ORGANIZATION_TYPE'].astype('category')


app['DAYS_BIRTH'] = (app['DAYS_BIRTH'] / 365).astype(int)
app['DAYS_BIRTH']


app['DAYS_BIRTH']


app['AGE_GROUP'] = pd.cut(app['DAYS_BIRTH'],bins=[19,25,35,60,100],labels=['very_young','young','middle age','senior citizen'])


app[['DAYS_BIRTH','AGE_GROUP']].head()


Target0=app.loc[app["TARGET"]==0]
Target1=app.loc[app["TARGET"]==1]





round(len(Target0)/len(Target1),2)



target_counts = app['TARGET'].value_counts()

# Create a pie chart
plt.figure(figsize=(6, 6))
plt.pie(target_counts, labels=target_counts.index, autopct='%1.1f%%', startangle=140)
plt.title('Distribution of TARGET Variable')
plt.show()


plt.figure(figsize=(15,5))
plt.subplot(121)
sns.countplot(x='TARGET',hue='CODE_GENDER',data=Target0, palette ='RdPu')
plt.title("Gender Distribution in Target0")
plt.subplot(122)
sns.countplot(x='TARGET',hue='CODE_GENDER',data=Target1, palette = 'Blues')
plt.title("Gender Distribution in Target1")

plt.show()


#AGE DISTRIBUTION FOR NON-DEFAULTERS AND DEFAULTERS

plt.figure(figsize=(15,7))
plt.subplot(121)
sns.countplot(x='TARGET',hue='AGE_GROUP',data=Target0,palette='Set2')
plt.title("Age Distribution for Non-Defaulters")
plt.subplot(122)
sns.countplot(x='TARGET',hue='AGE_GROUP',data=Target1,palette='Set2')
plt.title("Age Distribution for Defaulters")
plt.show()


categorical_col = list(app.select_dtypes(include= 'category').columns)


# Removing 'ORGANIZATION_TYPE','CODE_GENDER','AGE_GROUP' because we have already taken up the isights from  above plots

categorical_col.remove('ORGANIZATION_TYPE')
categorical_col.remove('CODE_GENDER')
categorical_col.remove('AGE_GROUP')

categorical_col #Checking after removing columns


def uni(col):
    sns.set(style="darkgrid")
    plt.figure(figsize=(40,20))


    plt.subplot(1,2,1)
    sns.distplot(Target0[col], color="g" )
    plt.yscale('linear')
    plt.xlabel(col, fontsize= 30, fontweight="bold")
    plt.ylabel('Non Payment Difficulties', fontsize= 30, fontweight="bold")                    #Target 0
    plt.xticks(rotation=90, fontsize=30)
    plt.yticks(rotation=360, fontsize=30)




    plt.subplot(1,2,2)
    sns.distplot(Target1[col], color="r")
    plt.yscale('linear')
    plt.xlabel(col, fontsize= 30, fontweight="bold")
    plt.ylabel('Payment Difficulties', fontsize= 30, fontweight="bold")                       # Target 1
    plt.xticks(rotation=90, fontsize=30)
    plt.yticks(rotation=360, fontsize=30)

    plt.show();


uni(col='AMT_ANNUITY')


uni(col='AMT_CREDIT')


uni(col='AMT_GOODS_PRICE')



uni(col='AMT_INCOME_TOTAL')



app[["TARGET","AMT_INCOME_TOTAL","NAME_EDUCATION_TYPE","NAME_FAMILY_STATUS"]]


plt.figure(figsize=(35,15))
plt.yscale('log')                     #As the values are too large, it is convinient to use log for better analysis
plt.xticks(rotation = 45)


sns.boxplot(data =Target0, x='NAME_EDUCATION_TYPE',y='AMT_INCOME_TOTAL',   #Boxplot w.r.t Data Target 0
            hue ='NAME_FAMILY_STATUS',orient='v',palette='Set2')


plt.legend( loc = 'upper right')                                              #Adjusting legend position
plt.title('Income amount vs Education Status',fontsize=35 )
plt.xlabel("NAME_EDUCATION_TYPE",fontsize= 30, fontweight="bold")
plt.ylabel("AMT_INCOME_TOTAL",fontsize= 30, fontweight="bold")
plt.xticks(rotation=0, fontsize=30)
plt.yticks(rotation=360, fontsize=30)

plt.show()


plt.figure(figsize=(35,15))
plt.yscale('log')                      #As the values are too large, it is convinient to use log for better analysis
plt.xticks(rotation = 90)


sns.boxplot(data =Target0, x='NAME_EDUCATION_TYPE',y='AMT_CREDIT',           #Boxplot w.r.t Data Target 0
            hue ='NAME_FAMILY_STATUS',orient='v',palette='Set2')


plt.legend( bbox_to_anchor=(1.5, 1),loc = 'upper right')            #Adjusting legend position
plt.title('Credit V/s Education',fontsize=35 )
plt.xlabel("NAME_EDUCATION_TYPE",fontsize= 30, fontweight="bold")
plt.ylabel("AMT_CREDIT",fontsize= 30, fontweight="bold")
plt.xticks(rotation=0, fontsize=30)
plt.yticks(rotation=360, fontsize=30)

plt.show()


plt.figure(figsize=(35,12))
plt.yscale('log')                     #As the values are too large, it is convinient to use log for better analysis
plt.xticks(rotation = 90)


sns.boxplot(data =Target1, x='NAME_EDUCATION_TYPE',y='AMT_INCOME_TOTAL',   #Boxplot w.r.t Data Target 1
            hue ='NAME_FAMILY_STATUS',orient='v',palette='Set2')


plt.legend( loc = 'upper right')                                              #Adjusting legend position
plt.title('Income amount vs Education Status',fontsize= 35)
plt.xlabel("NAME_EDUCATION_TYPE",fontsize= 30, fontweight="bold")
plt.ylabel("AMT_INCOME_TOTAL",fontsize= 30, fontweight="bold")
plt.xticks(rotation=0, fontsize=30)
plt.yticks(rotation=360, fontsize=30)

plt.show()


plt.figure(figsize=(35,15))               #As the values are too large, it is convinient to use log for better analysis
plt.yscale('log')
plt.xticks(rotation = 90)


sns.boxplot(data =Target1, x='NAME_EDUCATION_TYPE',y='AMT_CREDIT',      #Boxplot w.r.t Data Target 1
            hue ='NAME_FAMILY_STATUS',orient='v',palette='Set2')



plt.legend( bbox_to_anchor=(1.5, 1),loc = 'upper right')              #Adjusting legend position
plt.title('Credit V/s Education',fontsize=50 )
plt.xlabel("NAME_EDUCATION_TYPE",fontsize= 30, fontweight="bold")
plt.ylabel("AMT_CREDIT",fontsize= 30, fontweight="bold")
plt.xticks(rotation=0, fontsize=30)
plt.yticks(rotation=360, fontsize=30)

plt.show()


def biplot(df,feature,title):
    temp = df[feature].value_counts()

# Calculate the percentage of target=1 per category value

    perc = df[[feature, 'TARGET']].groupby([feature],as_index=False).mean()
    perc.sort_values(by='TARGET', ascending=False, inplace=True)
    fig = make_subplots(rows=1, cols=2,
                        subplot_titles=("Count of "+ title,"% of Loan Payment difficulties within each category"))
    fig.add_trace(go.Bar(x=temp.index, y=temp.values),row=1, col=1)
    fig.add_trace(go.Bar(x=perc[feature].to_list(), y=perc['TARGET'].to_list()),row=1, col=2)
    fig['layout']['xaxis']['title']=feature
    fig['layout']['xaxis2']['title']=feature
    fig['layout']['yaxis']['title']='Count'
    fig['layout']['yaxis2']['title']='% of Loan Payment Difficulties'
    fig.update_layout(height=600, width=1000, title_text=title, showlegend=False)
    fig.show()


biplot(app ,'AMT_INCOME_TYPE','AMT_INCOME_RANGE')





biplot(app ,'NAME_INCOME_TYPE','Income type')


biplot(app ,'NAME_CONTRACT_TYPE','Contract type')


biplot(app,'NAME_EDUCATION_TYPE','Education type')


biplot(app,'NAME_HOUSING_TYPE','Housing type')


biplot(app,'OCCUPATION_TYPE','Occupation type')


table= pd.pivot_table(app, values='TARGET', index=['CODE_GENDER','AMT_INCOME_TYPE'],columns=['NAME_EDUCATION_TYPE'], aggfunc=np.mean)
table


pair = Target0[['TARGET','AMT_CREDIT', 'AMT_ANNUITY', 'AMT_INCOME_TOTAL', 'AMT_GOODS_PRICE', 'DAYS_BIRTH','CNT_CHILDREN','DAYS_EMPLOYED']].fillna(0)
sns.pairplot(pair)

plt.show()


pair = Target1[['TARGET','AMT_CREDIT', 'AMT_ANNUITY', 'AMT_INCOME_TOTAL', 'AMT_GOODS_PRICE', 'DAYS_BIRTH','CNT_CHILDREN','DAYS_EMPLOYED']].fillna(0)
sns.pairplot(pair)

plt.show()








null_col_prev= (papp.isnull().sum()/len(papp)* 100 ) .sort_values(ascending=False)
null_col_prev





null_col_prev[null_col_prev > 0]


null_col_prev=papp.isnull().sum()/len(null_col_prev)*100
null_col_prev[null_col_prev >0]





drop_col_prev=papp.columns[papp.isnull().sum()/papp.shape[0]*100 > 40]
papp.drop(columns=drop_col_prev,inplace=True)
papp.shape


null_col_prev=papp.isnull().sum()/null_col_prev.shape[0]*100
null_col_prev[null_col_prev> 0]


papp.shape


papp['AMT_ANNUITY']


# Define the list of specified values
specified_values = ["Canceled", "Refused", "Unused offer"]
papp.loc[papp['NAME_CONTRACT_STATUS'].isin(specified_values), 'AMT_ANNUITY'] = 0
papp.shape
(1670214, 26)


papp.loc[papp['NAME_CONTRACT_STATUS'].isin(specified_values), 'AMT_ANNUITY'].values



papp['AMT_ANNUITY'].fillna(papp['AMT_ANNUITY'].median(),inplace=True)


papp['PRODUCT_COMBINATION'].mode()[0]


papp['PRODUCT_COMBINATION'].fillna(papp['PRODUCT_COMBINATION'].mode()[0],inplace=True)


papp['PRODUCT_COMBINATION'].isnull().sum()


papp["AMT_GOODS_PRICE"].fillna(papp["AMT_GOODS_PRICE"].median(),inplace=True)
papp["AMT_GOODS_PRICE"].isnull().sum()


missing_payment_prev = papp[papp['CNT_PAYMENT'].isnull() | (papp['CNT_PAYMENT'] == 0)]

# Examine unique values in NAME_CONTRACT_STATUS
status_counts1 = missing_payment_prev['NAME_CONTRACT_STATUS'].value_counts()
print(status_counts1)


papp['CNT_PAYMENT'].fillna(0, inplace=True)


null_col_prev=null_col_prev.isnull().sum()/len(papp)*100
null_col_prev[null_col_prev >0]



(papp.isnull().sum() / len(papp) * 100 ).sort_values(ascending=False).head(50)





data = papp['NAME_CONTRACT_STATUS'].value_counts()

# Create a Pie chart
plt.figure(figsize=(8, 8))
plt.pie(data, labels=data.index, autopct='%1.1f%%', startangle=90)

# Equal aspect ratio ensures that pie is drawn as a circle

plt.axis('equal')
plt.title('Contract Status Distribution')
plt.show()


analysis_final=pd.merge(app,papp,on="SK_ID_CURR",how="inner")
null_col=analysis_final.isnull().sum()/analysis_final.shape[0]*100
null_col[null_col>0]


analysis_final.shape


analysis_final.columns


plt.figure(figsize=(12, 8))
sns.pointplot(data=analysis_final, x="NAME_CONTRACT_STATUS", y="AMT_INCOME_TOTAL", hue="TARGET")

# Customize the plot
plt.title("Point Plot of TARGET vs. AMT_INCOME_TOTAL by Contract Status")
plt.xlabel("TARGET")
plt.ylabel("AMT_INCOME_TOTAL")
plt.legend(title="Contract Status")

# Show the plot
plt.show()


plt.figure(figsize=(12, 8))
sns.pointplot(data=analysis_final, x="NAME_CONTRACT_STATUS", y="AMT_INCOME_TOTAL", hue="TARGET")

# Customize the plot
plt.title("Point Plot of TARGET vs. AMT_INCOME_TOTAL by Contract Status")
plt.xlabel("TARGET")
plt.ylabel("AMT_INCOME_TOTAL")
plt.legend(title="Contract Status")

# Show the plot
plt.show()
